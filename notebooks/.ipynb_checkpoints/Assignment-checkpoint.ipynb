{
 "cells": [
  {
   "cell_type": "code",
   "execution_count": null,
   "metadata": {},
   "outputs": [],
   "source": [
    "import numpy as np\n",
    "import pandas as pd\n",
    "\n",
    "hiddentransition=pd.read_csv('../data/internal/Shakespeare_data.csv')\n",
    "shakespeare.head()"
   ]
  },
  {
   "cell_type": "code",
   "execution_count": null,
   "metadata": {},
   "outputs": [],
   "source": [
    "# Viterbi--------------------------\n",
    "#Current Observations\n",
    "obs = ['to','be','or','not']\n",
    "\n",
    "#Initial Transitions\n",
    "hiddentransition=pd.fr\n",
    "    \n",
    "    "
   ]
  },
  {
   "cell_type": "markdown",
   "metadata": {},
   "source": [
    "* https://stackoverflow.com/questions/38310377/hmm-trans-and-estm-matrix-initialization\n",
    "* https://stats.stackexchange.com/questions/47846/how-to-define-initial-probabilities-for-hmm\n",
    "* https://jarrodkahn.com/posts/49/viterbi-algorithm/\n",
    "* https://github.com/alexsosn/MarslandMLAlgo/blob/master/Ch16/HMM.py\n",
    "* http://www.blackarbs.com/blog/introduction-hidden-markov-models-python-networkx-sklearn/2/9/2017"
   ]
  }
 ],
 "metadata": {
  "kernelspec": {
   "display_name": "Python 3",
   "language": "python",
   "name": "python3"
  },
  "language_info": {
   "codemirror_mode": {
    "name": "ipython",
    "version": 3
   },
   "file_extension": ".py",
   "mimetype": "text/x-python",
   "name": "python",
   "nbconvert_exporter": "python",
   "pygments_lexer": "ipython3",
   "version": "3.6.5"
  }
 },
 "nbformat": 4,
 "nbformat_minor": 2
}
