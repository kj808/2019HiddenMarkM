{
 "cells": [
  {
   "cell_type": "code",
   "execution_count": 1,
   "metadata": {},
   "outputs": [],
   "source": [
    "%config IPCompleter.greedy=True"
   ]
  },
  {
   "cell_type": "code",
   "execution_count": 2,
   "metadata": {},
   "outputs": [
    {
     "data": {
      "text/html": [
       "<div>\n",
       "<style scoped>\n",
       "    .dataframe tbody tr th:only-of-type {\n",
       "        vertical-align: middle;\n",
       "    }\n",
       "\n",
       "    .dataframe tbody tr th {\n",
       "        vertical-align: top;\n",
       "    }\n",
       "\n",
       "    .dataframe thead th {\n",
       "        text-align: right;\n",
       "    }\n",
       "</style>\n",
       "<table border=\"1\" class=\"dataframe\">\n",
       "  <thead>\n",
       "    <tr style=\"text-align: right;\">\n",
       "      <th></th>\n",
       "      <th>Dataline</th>\n",
       "      <th>Play</th>\n",
       "      <th>PlayerLinenumber</th>\n",
       "      <th>ActSceneLine</th>\n",
       "      <th>Player</th>\n",
       "      <th>PlayerLine</th>\n",
       "    </tr>\n",
       "  </thead>\n",
       "  <tbody>\n",
       "    <tr>\n",
       "      <th>0</th>\n",
       "      <td>1</td>\n",
       "      <td>Henry IV</td>\n",
       "      <td>NaN</td>\n",
       "      <td>NaN</td>\n",
       "      <td>NaN</td>\n",
       "      <td>ACT I</td>\n",
       "    </tr>\n",
       "    <tr>\n",
       "      <th>1</th>\n",
       "      <td>2</td>\n",
       "      <td>Henry IV</td>\n",
       "      <td>NaN</td>\n",
       "      <td>NaN</td>\n",
       "      <td>NaN</td>\n",
       "      <td>SCENE I. London. The palace.</td>\n",
       "    </tr>\n",
       "    <tr>\n",
       "      <th>2</th>\n",
       "      <td>3</td>\n",
       "      <td>Henry IV</td>\n",
       "      <td>NaN</td>\n",
       "      <td>NaN</td>\n",
       "      <td>NaN</td>\n",
       "      <td>Enter KING HENRY, LORD JOHN OF LANCASTER, the ...</td>\n",
       "    </tr>\n",
       "    <tr>\n",
       "      <th>3</th>\n",
       "      <td>4</td>\n",
       "      <td>Henry IV</td>\n",
       "      <td>1.0</td>\n",
       "      <td>1.1.1</td>\n",
       "      <td>KING HENRY IV</td>\n",
       "      <td>So shaken as we are, so wan with care,</td>\n",
       "    </tr>\n",
       "    <tr>\n",
       "      <th>4</th>\n",
       "      <td>5</td>\n",
       "      <td>Henry IV</td>\n",
       "      <td>1.0</td>\n",
       "      <td>1.1.2</td>\n",
       "      <td>KING HENRY IV</td>\n",
       "      <td>Find we a time for frighted peace to pant,</td>\n",
       "    </tr>\n",
       "  </tbody>\n",
       "</table>\n",
       "</div>"
      ],
      "text/plain": [
       "   Dataline      Play  PlayerLinenumber ActSceneLine         Player  \\\n",
       "0         1  Henry IV               NaN          NaN            NaN   \n",
       "1         2  Henry IV               NaN          NaN            NaN   \n",
       "2         3  Henry IV               NaN          NaN            NaN   \n",
       "3         4  Henry IV               1.0        1.1.1  KING HENRY IV   \n",
       "4         5  Henry IV               1.0        1.1.2  KING HENRY IV   \n",
       "\n",
       "                                          PlayerLine  \n",
       "0                                              ACT I  \n",
       "1                       SCENE I. London. The palace.  \n",
       "2  Enter KING HENRY, LORD JOHN OF LANCASTER, the ...  \n",
       "3             So shaken as we are, so wan with care,  \n",
       "4         Find we a time for frighted peace to pant,  "
      ]
     },
     "execution_count": 2,
     "metadata": {},
     "output_type": "execute_result"
    }
   ],
   "source": [
    "#Import Libraries and Data\n",
    "import numpy as np\n",
    "import pandas as pd\n",
    "from scipy.stats import rv_discrete\n",
    "from sklearn.feature_extraction.text import CountVectorizer\n",
    "\n",
    "shakespeare=pd.read_csv('../data/external/Shakespeare_data.csv')\n",
    "shakespeare.head()"
   ]
  },
  {
   "cell_type": "code",
   "execution_count": 3,
   "metadata": {},
   "outputs": [
    {
     "name": "stdout",
     "output_type": "stream",
     "text": [
      "                                      PlayerLine\n",
      "3          so shaken as we are so wan with care \n",
      "4     find we a time for frighted peace to pant \n",
      "5  and breathe shortwinded accents of new broils\n",
      "6        to be commenced in strands afar remote \n",
      "7      no more the thirsty entrance of this soil\n"
     ]
    }
   ],
   "source": [
    "#Clean Data\n",
    "shakespeare=shakespeare.dropna() #drop all NaN as typically represent scene transitions\n",
    "obsstatesInit=shakespeare['PlayerLine'].astype(str)\n",
    "obsstatesInit=obsstatesInit.str.replace(pat=r\"[,.:!?]\", repl=\" \") #remove punctuation and place space\n",
    "obsstatesInit=obsstatesInit.str.replace(pat=r\"--|\\t|  \", repl=\" \") #remove excessive white space and replace with one space\n",
    "obsstates=obsstatesInit.str.replace(pat=r\"\\'|\\-|\\[|\\]|\\$|\\(|\\)\", repl=\"\") #remove parenthesis or dashes\n",
    "obsstates=obsstates.dropna() #drop any strings that are now empty\n",
    "obsstates=obsstates.str.lower() #lower all capitalization\n",
    "obsstates=obsstates.to_frame() #back to frame \n",
    "print(obsstates.head())\n",
    "obsstates.to_csv(path_or_buf='../data/internal/Shakespeare_data.csv') #save to data file"
   ]
  },
  {
   "cell_type": "code",
   "execution_count": 4,
   "metadata": {},
   "outputs": [
    {
     "name": "stdout",
     "output_type": "stream",
     "text": [
      "Number of Unique Words (aka states)\n",
      "26307\n"
     ]
    }
   ],
   "source": [
    "#-------------------------Determine Amount of Unique States (words)------------------\n",
    "#Figure out initial probabilities through frequency\n",
    "vectorizer = CountVectorizer(token_pattern=u\"(?u)\\\\b\\\\w+\\\\b\")\n",
    "corpus=obsstates.PlayerLine.values\n",
    "X = vectorizer.fit_transform(corpus)\n",
    "observablestates=vectorizer.get_feature_names()\n",
    "StateWords=len(observablestates)\n",
    "print(\"Number of Unique Words (aka states)\")\n",
    "print(StateWords)"
   ]
  },
  {
   "cell_type": "code",
   "execution_count": 5,
   "metadata": {},
   "outputs": [
    {
     "name": "stdout",
     "output_type": "stream",
     "text": [
      "1     0.0\n",
      "10    0.0\n",
      "2     0.0\n",
      "2d    0.0\n",
      "2s    0.0\n",
      "dtype: float64\n",
      "      1   10    2   2d   2s    3    4   4d    5   5s    ...      zenelophon  \\\n",
      "1   0.0  0.0  0.0  0.0  0.0  0.0  0.0  0.0  0.0  0.0    ...             0.0   \n",
      "10  0.0  0.0  0.0  0.0  0.0  0.0  0.0  0.0  0.0  0.0    ...             0.0   \n",
      "2   0.0  0.0  0.0  0.0  0.0  0.0  0.0  0.0  0.0  0.0    ...             0.0   \n",
      "2d  0.0  0.0  0.0  0.0  0.0  0.0  0.0  0.0  0.0  0.0    ...             0.0   \n",
      "2s  0.0  0.0  0.0  0.0  0.0  0.0  0.0  0.0  0.0  0.0    ...             0.0   \n",
      "\n",
      "    zenith  zephyrs  zir   zo  zodiac  zodiacs  zone  zounds  zwaggered  \n",
      "1      0.0      0.0  0.0  0.0     0.0      0.0   0.0     0.0        0.0  \n",
      "10     0.0      0.0  0.0  0.0     0.0      0.0   0.0     0.0        0.0  \n",
      "2      0.0      0.0  0.0  0.0     0.0      0.0   0.0     0.0        0.0  \n",
      "2d     0.0      0.0  0.0  0.0     0.0      0.0   0.0     0.0        0.0  \n",
      "2s     0.0      0.0  0.0  0.0     0.0      0.0   0.0     0.0        0.0  \n",
      "\n",
      "[5 rows x 26307 columns]\n"
     ]
    }
   ],
   "source": [
    "#Create Transition Matrix\n",
    "initTransit=pd.Series(data=np.zeros(shape=(StateWords)),index=observablestates)\n",
    "obsTransit=pd.DataFrame(np.zeros(shape=(StateWords,StateWords)),index=observablestates, columns=observablestates)\n",
    "\n",
    "print(initTransit.head())\n",
    "print(obsTransit.head())"
   ]
  },
  {
   "cell_type": "code",
   "execution_count": 6,
   "metadata": {
    "scrolled": true
   },
   "outputs": [
    {
     "name": "stdout",
     "output_type": "stream",
     "text": [
      "      1   10    2   2d   2s    3    4   4d    5   5s    ...      zenelophon  \\\n",
      "1   0.0  0.0  0.0  0.0  0.0  0.0  0.0  0.0  0.0  0.0    ...             0.0   \n",
      "10  0.0  0.0  0.0  0.0  0.0  0.0  0.0  0.0  0.0  0.0    ...             0.0   \n",
      "2   0.0  0.0  0.0  0.0  0.0  0.0  0.0  0.0  0.0  0.0    ...             0.0   \n",
      "2d  0.0  0.0  0.0  0.0  0.0  0.0  0.0  0.0  0.0  0.0    ...             0.0   \n",
      "2s  0.0  0.0  0.0  1.0  0.0  0.0  0.0  0.0  0.0  0.0    ...             0.0   \n",
      "\n",
      "    zenith  zephyrs  zir   zo  zodiac  zodiacs  zone  zounds  zwaggered  \n",
      "1      0.0      0.0  0.0  0.0     0.0      0.0   0.0     0.0        0.0  \n",
      "10     0.0      0.0  0.0  0.0     0.0      0.0   0.0     0.0        0.0  \n",
      "2      0.0      0.0  0.0  0.0     0.0      0.0   0.0     0.0        0.0  \n",
      "2d     0.0      0.0  0.0  0.0     0.0      0.0   0.0     0.0        0.0  \n",
      "2s     0.0      0.0  0.0  0.0     0.0      0.0   0.0     0.0        0.0  \n",
      "\n",
      "[5 rows x 26307 columns]\n"
     ]
    }
   ],
   "source": [
    "#For each line, \n",
    "obsstates.loc[:,'PlayerLine']=obsstates.PlayerLine.str.lower()\n",
    "for row in obsstates['PlayerLine']:\n",
    "    #Split row for easy counting\n",
    "    new=row.split(\" \")\n",
    "    new=list(filter(None, new))\n",
    "    # Check if a list\n",
    "    if len(new)==0:\n",
    "        break\n",
    "    # Grab the first word and add count to series\n",
    "    initTransit[new[0]]=initTransit[new[0]]+1\n",
    "\n",
    "    #Count the transitions\n",
    "    for i in range(len(new)-1):\n",
    "        obsTransit.loc[new[i],new[i+1]]=obsTransit.loc[new[i],new[i+1]]+1\n",
    "print(obsTransit.head())"
   ]
  },
  {
   "cell_type": "code",
   "execution_count": 7,
   "metadata": {},
   "outputs": [
    {
     "name": "stdout",
     "output_type": "stream",
     "text": [
      "1     0.000015\n",
      "10    0.000015\n",
      "2     0.000015\n",
      "2d    0.000000\n",
      "2s    0.000000\n",
      "dtype: float64\n",
      "      1   10    2   2d   2s    3    4   4d    5   5s    ...      zenelophon  \\\n",
      "1   0.0  0.0  0.0  0.0  0.0  0.0  0.0  0.0  0.0  0.0    ...             0.0   \n",
      "10  0.0  0.0  0.0  0.0  0.0  0.0  0.0  0.0  0.0  0.0    ...             0.0   \n",
      "2   0.0  0.0  0.0  0.0  0.0  0.0  0.0  0.0  0.0  0.0    ...             0.0   \n",
      "2d  0.0  0.0  0.0  0.0  0.0  0.0  0.0  0.0  0.0  0.0    ...             0.0   \n",
      "2s  0.0  0.0  0.0  0.5  0.0  0.0  0.0  0.0  0.0  0.0    ...             0.0   \n",
      "\n",
      "    zenith  zephyrs  zir   zo  zodiac  zodiacs  zone  zounds  zwaggered  \n",
      "1      0.0      0.0  0.0  0.0     0.0      0.0   0.0     0.0        0.0  \n",
      "10     0.0      0.0  0.0  0.0     0.0      0.0   0.0     0.0        0.0  \n",
      "2      0.0      0.0  0.0  0.0     0.0      0.0   0.0     0.0        0.0  \n",
      "2d     0.0      0.0  0.0  0.0     0.0      0.0   0.0     0.0        0.0  \n",
      "2s     0.0      0.0  0.0  0.0     0.0      0.0   0.0     0.0        0.0  \n",
      "\n",
      "[5 rows x 26307 columns]\n"
     ]
    }
   ],
   "source": [
    "#Convert to probabilities\n",
    "newInitTransit= initTransit.div(initTransit.sum())\n",
    "print(newInitTransit.head())\n",
    "#Sum each row and divide by result\n",
    "newobsTransit=obsTransit.div(obsTransit.sum(axis=1), axis=0)\n",
    "newobsTransit.fillna(value=0,inplace=True) #meaning the entire row was zero thus division by zero introduced NaN\n",
    "print(newobsTransit.head())"
   ]
  },
  {
   "cell_type": "code",
   "execution_count": 8,
   "metadata": {},
   "outputs": [
    {
     "name": "stdout",
     "output_type": "stream",
     "text": [
      "and\n",
      "i\n",
      "am\n",
      "i\n",
      "am\n",
      "i\n",
      "am\n",
      "i\n",
      "am\n",
      "i\n"
     ]
    }
   ],
   "source": [
    "#------Forward Algorithm x Viterbi with Markov Model to Generate text given the length value------------\n",
    "length=10\n",
    "\n",
    "outputSequence=pd.Series(np.zeros(shape=length),index=range(length))\n",
    "outputIndices=pd.Series(np.zeros(shape=length),index=range(length))\n",
    "                            \n",
    "for i in range(length):\n",
    "    if i == 0:\n",
    "        outputSequence[i]=initTransit.max() #Return most frequent starting word probability\n",
    "        outputIndices[i]=initTransit.idxmax() #Save that word\n",
    "    else:\n",
    "        inQuestion=outputSequence[i-1]*newobsTransit.loc[outputIndices[i-1],:]\n",
    "        outputSequence[i]=inQuestion.max()\n",
    "        outputIndices[i]=inQuestion.idxmax()\n",
    "    print(outputIndices[i])"
   ]
  },
  {
   "cell_type": "code",
   "execution_count": 9,
   "metadata": {},
   "outputs": [
    {
     "name": "stdout",
     "output_type": "stream",
     "text": [
      "0.06737789432905206\n",
      "0.036564651190511666\n",
      "0.0\n",
      "0.03240109140518418\n",
      "0.03315143246930423\n",
      "0.09365509316260363\n",
      "0.10526315789473684\n"
     ]
    }
   ],
   "source": [
    "#Some checks\n",
    "print(newInitTransit.loc['and'])\n",
    "print(newInitTransit.loc['the'])\n",
    "print(newobsTransit.loc['the','and'])\n",
    "print(newobsTransit.loc['and','the'])\n",
    "print(newobsTransit.loc['and', 'i'])\n",
    "print(newobsTransit.loc['i','am'])\n",
    "print(newobsTransit.loc['am','i'])"
   ]
  },
  {
   "cell_type": "code",
   "execution_count": 10,
   "metadata": {},
   "outputs": [],
   "source": [
    "#----------------------------Define the Hidden States----------------------------\n",
    "hiddenstates=obsstates.index"
   ]
  },
  {
   "cell_type": "code",
   "execution_count": 11,
   "metadata": {},
   "outputs": [
    {
     "name": "stdout",
     "output_type": "stream",
     "text": [
      "Total Word Sums:26307\n",
      "     1   10    2   2d   2s    3    4   4d    5   5s    ...      zenelophon  \\\n",
      "3  0.0  0.0  0.0  0.0  0.0  0.0  0.0  0.0  0.0  0.0    ...             0.0   \n",
      "4  0.0  0.0  0.0  0.0  0.0  0.0  0.0  0.0  0.0  0.0    ...             0.0   \n",
      "5  0.0  0.0  0.0  0.0  0.0  0.0  0.0  0.0  0.0  0.0    ...             0.0   \n",
      "6  0.0  0.0  0.0  0.0  0.0  0.0  0.0  0.0  0.0  0.0    ...             0.0   \n",
      "7  0.0  0.0  0.0  0.0  0.0  0.0  0.0  0.0  0.0  0.0    ...             0.0   \n",
      "\n",
      "   zenith  zephyrs  zir   zo  zodiac  zodiacs  zone  zounds  zwaggered  \n",
      "3     0.0      0.0  0.0  0.0     0.0      0.0   0.0     0.0        0.0  \n",
      "4     0.0      0.0  0.0  0.0     0.0      0.0   0.0     0.0        0.0  \n",
      "5     0.0      0.0  0.0  0.0     0.0      0.0   0.0     0.0        0.0  \n",
      "6     0.0      0.0  0.0  0.0     0.0      0.0   0.0     0.0        0.0  \n",
      "7     0.0      0.0  0.0  0.0     0.0      0.0   0.0     0.0        0.0  \n",
      "\n",
      "[5 rows x 26307 columns]\n"
     ]
    }
   ],
   "source": [
    "#-------------------------Observable hidden state calculation----------------------------\n",
    "observableStateDF=pd.DataFrame(data=X.toarray(),index=hiddenstates,columns=vectorizer.get_feature_names())\n",
    "#fill any NaN with 0\n",
    "observableStateDF.fillna(0)\n",
    "\n",
    "#add columns for total word sums\n",
    "eachWordCount=observableStateDF.values.sum(axis=0)\n",
    "print(\"Total Word Sums:\" + str(len(eachWordCount)))\n",
    "\n",
    "#divide each row by the sum vector to grab overall word probabilities\n",
    "observableStateDF=observableStateDF.values / eachWordCount\n",
    "observableStateDF=pd.DataFrame(data=observableStateDF,index=hiddenstates, columns=vectorizer.get_feature_names())\n",
    "print(observableStateDF.head())\n"
   ]
  },
  {
   "cell_type": "code",
   "execution_count": 15,
   "metadata": {},
   "outputs": [],
   "source": [
    "#Observation here\n",
    "obs=[\"to\",\"be\",\"or\",\"not\"]\n",
    "#For a little bit of fun, loop through a couple of times to see a variation depending on initial state probs~\n",
    "lengths=10"
   ]
  },
  {
   "cell_type": "code",
   "execution_count": 16,
   "metadata": {},
   "outputs": [
    {
     "name": "stdout",
     "output_type": "stream",
     "text": [
      "103117\n",
      "Dataline                                                      103118\n",
      "Play                                                   Twelfth Night\n",
      "PlayerLinenumber                                                  53\n",
      "ActSceneLine                                                  1.3.95\n",
      "Player                                                    SIR ANDREW\n",
      "PlayerLine          will not be seen, or if she be, it's four to one\n",
      "Name: 103117, dtype: object\n",
      "34229\n",
      "Dataline                                                 34230\n",
      "Play                                                    Hamlet\n",
      "PlayerLinenumber                                            19\n",
      "ActSceneLine                                            3.1.64\n",
      "Player                                                  HAMLET\n",
      "PlayerLine          To be, or not to be: that is the question:\n",
      "Name: 34229, dtype: object\n",
      "34229\n",
      "Dataline                                                 34230\n",
      "Play                                                    Hamlet\n",
      "PlayerLinenumber                                            19\n",
      "ActSceneLine                                            3.1.64\n",
      "Player                                                  HAMLET\n",
      "PlayerLine          To be, or not to be: that is the question:\n",
      "Name: 34229, dtype: object\n",
      "103117\n",
      "Dataline                                                      103118\n",
      "Play                                                   Twelfth Night\n",
      "PlayerLinenumber                                                  53\n",
      "ActSceneLine                                                  1.3.95\n",
      "Player                                                    SIR ANDREW\n",
      "PlayerLine          will not be seen, or if she be, it's four to one\n",
      "Name: 103117, dtype: object\n",
      "103117\n",
      "Dataline                                                      103118\n",
      "Play                                                   Twelfth Night\n",
      "PlayerLinenumber                                                  53\n",
      "ActSceneLine                                                  1.3.95\n",
      "Player                                                    SIR ANDREW\n",
      "PlayerLine          will not be seen, or if she be, it's four to one\n",
      "Name: 103117, dtype: object\n",
      "101007\n",
      "Dataline                                                   101008\n",
      "Play                                         Troilus and Cressida\n",
      "PlayerLinenumber                                               46\n",
      "ActSceneLine                                              3.2.150\n",
      "Player                                                   CRESSIDA\n",
      "PlayerLine          Or else you love not, for to be wise and love\n",
      "Name: 101007, dtype: object\n",
      "34229\n",
      "Dataline                                                 34230\n",
      "Play                                                    Hamlet\n",
      "PlayerLinenumber                                            19\n",
      "ActSceneLine                                            3.1.64\n",
      "Player                                                  HAMLET\n",
      "PlayerLine          To be, or not to be: that is the question:\n",
      "Name: 34229, dtype: object\n",
      "34229\n",
      "Dataline                                                 34230\n",
      "Play                                                    Hamlet\n",
      "PlayerLinenumber                                            19\n",
      "ActSceneLine                                            3.1.64\n",
      "Player                                                  HAMLET\n",
      "PlayerLine          To be, or not to be: that is the question:\n",
      "Name: 34229, dtype: object\n",
      "34229\n",
      "Dataline                                                 34230\n",
      "Play                                                    Hamlet\n",
      "PlayerLinenumber                                            19\n",
      "ActSceneLine                                            3.1.64\n",
      "Player                                                  HAMLET\n",
      "PlayerLine          To be, or not to be: that is the question:\n",
      "Name: 34229, dtype: object\n",
      "103117\n",
      "Dataline                                                      103118\n",
      "Play                                                   Twelfth Night\n",
      "PlayerLinenumber                                                  53\n",
      "ActSceneLine                                                  1.3.95\n",
      "Player                                                    SIR ANDREW\n",
      "PlayerLine          will not be seen, or if she be, it's four to one\n",
      "Name: 103117, dtype: object\n"
     ]
    }
   ],
   "source": [
    "for i in range(lengths):\n",
    "    #Auto generate initial states as these are unknown\n",
    "    initHState=pd.Series(data=np.random.uniform(size=len(hiddenstates)),index=hiddenstates)\n",
    "\n",
    "    #----------Viterbi Here----------\n",
    "    viterbi=pd.DataFrame(data=np.zeros(shape=(len(obs),len(hiddenstates))),index=obs,columns=hiddenstates)\n",
    "    hStates=pd.Series(data=np.zeros(shape=len(obs)))\n",
    "\n",
    "    for index,ob in enumerate(obs):\n",
    "        if ob==obs[0]:\n",
    "            viterbi.loc[ob]=initHState*observableStateDF.loc[:,ob]\n",
    "            hStates[index]=0\n",
    "        else:\n",
    "            prevObs=obs[index-1]\n",
    "            viterbi.loc[ob]=viterbi.loc[prevObs]*observableStateDF.loc[:,ob]*newobsTransit.loc[prevObs,ob]\n",
    "            hStates[index]=viterbi.loc[ob].idxmax()\n",
    "    calculatedState=hStates[len(obs)-1]\n",
    "    calculatedState=int(calculatedState)\n",
    "    print(calculatedState)\n",
    "    print(shakespeare.loc[calculatedState,:])\n",
    "    "
   ]
  },
  {
   "cell_type": "markdown",
   "metadata": {},
   "source": [
    "## References\n",
    "Various Pandas and Matrix Code Snippets\n",
    "* http://www.blackarbs.com/blog/introduction-hidden-markov-models-python-networkx-sklearn/2/9/2017\n",
    "* https://stackoverflow.com/questions/25292838/applying-regex-to-a-pandas-dataframe \n",
    "* https://stackoverflow.com/questions/48474442/python-from-list-of-list-of-tokens-to-bag-of-words?rq=1\n",
    "* https://stackoverflow.com/questions/47297585/building-a-transition-matrix-using-words-in-python-numpy\n",
    "* https://machinelearningmastery.com/prepare-text-data-machine-learning-scikit-learn/\n",
    "* https://datascience.stackexchange.com/questions/37329/how-to-convert-an-array-of-numbers-into-probability-values\n",
    "* https://stackoverflow.com/questions/26537878/pandas-sum-across-columns-and-divide-each-cell-from-that-value\n",
    "* https://web.stanford.edu/~jurafsky/slp3/A.pdf"
   ]
  }
 ],
 "metadata": {
  "kernelspec": {
   "display_name": "Python 3",
   "language": "python",
   "name": "python3"
  },
  "language_info": {
   "codemirror_mode": {
    "name": "ipython",
    "version": 3
   },
   "file_extension": ".py",
   "mimetype": "text/x-python",
   "name": "python",
   "nbconvert_exporter": "python",
   "pygments_lexer": "ipython3",
   "version": "3.7.1"
  }
 },
 "nbformat": 4,
 "nbformat_minor": 2
}
